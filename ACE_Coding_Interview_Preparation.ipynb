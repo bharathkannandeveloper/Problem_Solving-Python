{
  "nbformat": 4,
  "nbformat_minor": 0,
  "metadata": {
    "colab": {
      "provenance": [],
      "authorship_tag": "ABX9TyOV5tDeGecvj8q1rjrD6m3H",
      "include_colab_link": true
    },
    "kernelspec": {
      "name": "python3",
      "display_name": "Python 3"
    },
    "language_info": {
      "name": "python"
    }
  },
  "cells": [
    {
      "cell_type": "markdown",
      "metadata": {
        "id": "view-in-github",
        "colab_type": "text"
      },
      "source": [
        "<a href=\"https://colab.research.google.com/github/bharathkannandeveloper/Problem_Solving-Python/blob/main/ACE_Coding_Interview_Preparation.ipynb\" target=\"_parent\"><img src=\"https://colab.research.google.com/assets/colab-badge.svg\" alt=\"Open In Colab\"/></a>"
      ]
    },
    {
      "cell_type": "markdown",
      "source": [
        "# **Day** - **1**"
      ],
      "metadata": {
        "id": "VmOv0vxy8Js1"
      }
    },
    {
      "cell_type": "code",
      "source": [
        "# Problem - 1\n",
        "# Square the Sorted Array and Print in Ascending Order\n",
        "\n",
        "# Method 1 - Brute force Method\n",
        "\n",
        "def bruteforce(arr):\n",
        "  newarr=[0]*len(arr)\n",
        "  for i in range(0,len(arr)):\n",
        "    newarr[i]=arr[i]*arr[i]\n",
        "  return newarr\n",
        "\n",
        "n=1\n",
        "for i in range(n):\n",
        "  arr=list(map(int,input().strip().split()))\n",
        "  newarr=bruteforce(arr)\n",
        "  newarr.sort()\n",
        "  print(newarr)\n"
      ],
      "metadata": {
        "colab": {
          "base_uri": "https://localhost:8080/"
        },
        "id": "LXghz57K8QNo",
        "outputId": "447c9768-5758-45eb-cc51-5c2f070e9b21"
      },
      "execution_count": null,
      "outputs": [
        {
          "output_type": "stream",
          "name": "stdout",
          "text": [
            "-14 -5 5 7 9 12\n",
            "[25, 25, 49, 81, 144, 196]\n"
          ]
        }
      ]
    },
    {
      "cell_type": "code",
      "source": [
        "# Problem - 1\n",
        "# Square the Sorted Array and Print in Ascending Order\n",
        "\n",
        "# Method 2 - Using Advantage of Sorted Array\n",
        "\n",
        "def process(arr,first,last):\n",
        "  newarr=[0]*len(arr)\n",
        "  for i in range(len(arr)-1,0,-1):\n",
        "    if first*first > last*last:\n",
        "      newarr[i]=first*first\n",
        "      first=first+1\n",
        "    elif first*first < last*last:\n",
        "      newarr[i]=last*last\n",
        "      last  = last -1\n",
        "    else:\n",
        "      newarr[i]=first*first\n",
        "      first=first+1\n",
        "  return newarr\n",
        "\n",
        "N=1\n",
        "for i in range(N):\n",
        "  arr=list(map(int,input().strip().split()))\n",
        "  first=arr[0]\n",
        "  last=arr[-1]\n",
        "  res=process(arr,first,last)\n",
        "  print(res)"
      ],
      "metadata": {
        "colab": {
          "base_uri": "https://localhost:8080/"
        },
        "id": "zadb9KgPDZWR",
        "outputId": "a9b22d91-003f-42b5-8e9a-6510234ba651"
      },
      "execution_count": null,
      "outputs": [
        {
          "output_type": "stream",
          "name": "stdout",
          "text": [
            "-2 -4 3 1\n",
            "[0, 1, 1, 4]\n"
          ]
        }
      ]
    },
    {
      "cell_type": "code",
      "source": [
        "# Problem - 2\n",
        "# Check the array is Monotonically increasing or Not\n",
        "\n",
        "# Method 1\n",
        "\n",
        "def check(arr,first,last):\n",
        "  if first < last:\n",
        "    for i in range(0,len(arr)-1):\n",
        "      if (arr[i] > arr[i+1]):\n",
        "        return False\n",
        "  elif first > last:\n",
        "    for i in range(0,len(arr)-1):\n",
        "      if (arr[i]<arr[i+1]):\n",
        "        return False\n",
        "  else:\n",
        "    for i in range(0,len(arr)-1):\n",
        "      if (arr[i]!=arr[i+1]):\n",
        "        return False\n",
        "  return True\n",
        "\n",
        "N=1\n",
        "for i in range(N):\n",
        "  arr=list(map(int,input().strip().split()))\n",
        "  first=arr[0]\n",
        "  last=arr[-1]\n",
        "  res=check(arr,first,last)\n",
        "  print(res)\n",
        "\n",
        "\n",
        "\n",
        "\n",
        "\n"
      ],
      "metadata": {
        "colab": {
          "base_uri": "https://localhost:8080/"
        },
        "outputId": "dd233f4c-7d47-412d-bb46-bdf8b47d2e53",
        "id": "N3hAaw6tCHl2"
      },
      "execution_count": null,
      "outputs": [
        {
          "output_type": "stream",
          "name": "stdout",
          "text": [
            "1 -1 2 -6 9 10 11\n",
            "False\n"
          ]
        }
      ]
    },
    {
      "cell_type": "markdown",
      "source": [
        "## **Day** - 2"
      ],
      "metadata": {
        "id": "1QCi6Q4nIcGM"
      }
    },
    {
      "cell_type": "code",
      "source": [
        "# Problem - 3\n",
        "# Rotate a array\n",
        "\n",
        "#Ex : [1,2,3,4,5] , r= 2 . Answer = [4,5,1,2,3]\n",
        "\n",
        "# Method - 1 Brute Force\n",
        "\n",
        "def bruteforce(arr,key):\n",
        "  if len(arr)=0: return arr\n",
        "  rem=key%len(arr)\n",
        "  temp=arr[-rem:]\n",
        "  for i in range((len(arr)-len(temp)-1),0,-1):\n",
        "    arr[i+2]=i\n",
        "  for i in range(0,len(temp)):\n",
        "    arr[i]=temp[i]\n",
        "  return arr\n",
        "\n",
        "N=1\n",
        "for i in range(0,N):\n",
        "  arr=list(map(int,input(\"Enter Array : \").strip().split()))\n",
        "  key=int(input(\"Enter No of Rotations : \"))\n",
        "  a=bruteforce(arr,key)\n",
        "  print(a)"
      ],
      "metadata": {
        "colab": {
          "base_uri": "https://localhost:8080/"
        },
        "id": "VOTZj2R4IizW",
        "outputId": "34566306-2d98-4f63-ade5-0d3e48d5ecb1"
      },
      "execution_count": null,
      "outputs": [
        {
          "output_type": "stream",
          "name": "stdout",
          "text": [
            "Enter Array : 1 2 3 4 5\n",
            "Enter No of Rotations : 5\n",
            "[1, 2, 3, 4, 5]\n"
          ]
        }
      ]
    },
    {
      "cell_type": "code",
      "source": [
        "# Problem - 3\n",
        "# Rotate a array\n",
        "\n",
        "#Ex : [1,2,3,4,5] , r= 2 . Answer = [4,5,1,2,3]\n",
        "\n",
        "# Method - 2 Efficient Way - time complexity = O(N) and space Complexity = O(1)\n",
        "\n",
        "def reverse(first,last,arr):\n",
        "  while first < last :\n",
        "    arr[first],arr[last]=arr[last],arr[first]\n",
        "    first +=1\n",
        "    last -=1\n",
        "  return arr\n",
        "\n",
        "\n",
        "def rotatearr(arr,key):\n",
        "  if key == 0 or len(arr)== 0: return arr\n",
        "  rem = key%len(arr)\n",
        "  arr=arr[::-1]\n",
        "  reverse(0,rem-1,arr)\n",
        "  reverse(rem,len(arr)-1,arr)\n",
        "  return arr\n",
        "\n",
        "\n",
        "N=1\n",
        "for i in range(N):\n",
        "  arr=list(map(int,input(\"Enter The Array : \").strip().split()))\n",
        "  key=int(input(\"Enter Key Value : \"))\n",
        "  a=rotatearr(arr,key)\n",
        "  print(a)\n",
        "\n",
        "\n"
      ],
      "metadata": {
        "colab": {
          "base_uri": "https://localhost:8080/"
        },
        "id": "Wb8ygtFbaTI1",
        "outputId": "7a56bb79-589e-44fa-e782-10a5f447a4b4"
      },
      "execution_count": null,
      "outputs": [
        {
          "output_type": "stream",
          "name": "stdout",
          "text": [
            "Enter The Array : 1 2 3 4 5\n",
            "Enter Key Value : 2\n",
            "[4, 5, 1, 2, 3]\n"
          ]
        }
      ]
    },
    {
      "cell_type": "code",
      "source": [
        "# problem - 4\n",
        "\n",
        "#Brute Force method\n",
        "\n",
        "def water(arr):\n",
        "  area=0\n",
        "  for i in range(len(arr)-1):\n",
        "    for j in range(i+1,len(arr)):\n",
        "      a=min(arr[i],arr[j])\n",
        "      diff=j-i\n",
        "      a=a*diff\n",
        "      area=max(area,a)\n",
        "  return area\n",
        "\n",
        "N=1\n",
        "for i in range(N):\n",
        "  arr=list(map(int,input(\"Enter Array : \").strip().split()))\n",
        "  area=water(arr)\n",
        "  print(area)\n",
        "\n",
        "\n"
      ],
      "metadata": {
        "colab": {
          "base_uri": "https://localhost:8080/"
        },
        "id": "yWigTXnihxlk",
        "outputId": "dfed33bc-245d-4a69-c599-3da860d4af72"
      },
      "execution_count": null,
      "outputs": [
        {
          "output_type": "stream",
          "name": "stdout",
          "text": [
            "Enter Array : 1 2 3 4 5 \n",
            "6\n"
          ]
        }
      ]
    },
    {
      "cell_type": "code",
      "source": [
        "# Problem 4\n",
        "\n",
        "# Method -2\n",
        "\n",
        "def water(arr):\n",
        "  maxarea=0\n",
        "  first=0\n",
        "  last=len(arr)-1\n",
        "  while first < last:\n",
        "    area=min(arr[first],arr[last])*(last-first)\n",
        "    maxarea=max(area,maxarea)\n",
        "    if arr[first] < arr[last]:\n",
        "      first = first+1\n",
        "    else:\n",
        "      last = last-1\n",
        "  return maxarea\n",
        "\n",
        "N=1\n",
        "  arr=list(map(int,input(\"Enter Array : \").strip().split()))\n",
        "  a=water(arr)\n",
        "  print(a)"
      ],
      "metadata": {
        "colab": {
          "base_uri": "https://localhost:8080/"
        },
        "id": "XbEHBbKKrx4A",
        "outputId": "d627d6e6-9e2d-4852-e728-687bacd14f78"
      },
      "execution_count": null,
      "outputs": [
        {
          "output_type": "stream",
          "name": "stdout",
          "text": [
            "Enter Array : 1 2 3 4 5\n",
            "6\n"
          ]
        }
      ]
    },
    {
      "cell_type": "markdown",
      "source": [
        "## **Day** - 3"
      ],
      "metadata": {
        "id": "vG29QJTCOotM"
      }
    },
    {
      "cell_type": "code",
      "source": [
        "# Problem - 5\n",
        "# Two Sum\n",
        "\n",
        "# Method - 1 : Brute Force , TC - O(N^2) , SC - O(1)\n",
        "\n",
        "def two_sum(arr,target):\n",
        "  for i in range(0,len(arr)-1):\n",
        "    for j in range(i+1,len(arr)):\n",
        "      if (arr[i]+arr[j]) == target:\n",
        "        return [arr[i],arr[j]]\n",
        "  return \"None\"\n",
        "\n",
        "N=1\n",
        "for i in range(N):\n",
        "  arr=[1,3,5,7,9,-1,-5]\n",
        "  target=2\n",
        "  answer=two_sum(arr,target)\n",
        "  print(answer)"
      ],
      "metadata": {
        "id": "jwdjGQhHOkWC",
        "colab": {
          "base_uri": "https://localhost:8080/"
        },
        "outputId": "e0198789-368c-4ab3-e687-1881d8b32b9e"
      },
      "execution_count": null,
      "outputs": [
        {
          "output_type": "stream",
          "name": "stdout",
          "text": [
            "[3, -1]\n"
          ]
        }
      ]
    },
    {
      "cell_type": "code",
      "source": [
        "# Problem - 5\n",
        "# Two Sum\n",
        "\n",
        "# Method - 2 : Efficient way ,TC - O(N) and SC - O(N)\n",
        "\n",
        "def two_sum(arr,target):\n",
        "  for i in range(0,len(arr)):\n",
        "\n"
      ],
      "metadata": {
        "id": "4TKgngGmcsuj"
      },
      "execution_count": null,
      "outputs": []
    }
  ]
}