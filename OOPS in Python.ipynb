{
 "cells": [
  {
   "cell_type": "code",
   "execution_count": null,
   "id": "c732a5dc",
   "metadata": {},
   "outputs": [],
   "source": [
    "%load_ext nbtutor"
   ]
  },
  {
   "cell_type": "code",
   "execution_count": 2,
   "id": "44fa266b",
   "metadata": {},
   "outputs": [
    {
     "name": "stdout",
     "output_type": "stream",
     "text": [
      "Generated random number: 14\n"
     ]
    }
   ],
   "source": [
    "# A simple pseudo-random number generator without using modules\n",
    "class CustomRandom:\n",
    "    def __init__(self, seed):\n",
    "        self.seed = seed\n",
    "\n",
    "    def next(self):\n",
    "        self.seed = (self.seed * 6364136223846793005 + 1) & ((1 << 64) - 1)\n",
    "        return self.seed >> 16\n",
    "\n",
    "# Create a custom random number generator with an initial seed\n",
    "seed = 12345  # You can change the seed value\n",
    "random_generator = CustomRandom(seed)\n",
    "\n",
    "# Generate a random number between 1 and 100 (inclusive)\n",
    "random_number = random_generator.next() % 100 + 1\n",
    "\n",
    "print(\"Generated random number:\", random_number)\n"
   ]
  },
  {
   "cell_type": "code",
   "execution_count": null,
   "id": "c60e05f4",
   "metadata": {
    "scrolled": true,
    "tags": []
   },
   "outputs": [],
   "source": [
    "%%nbtutor\n",
    "\n",
    "class Student:\n",
    "    def __init__(self, name, roll, age):\n",
    "        self.name = name\n",
    "        self.roll = roll\n",
    "        self.age = age\n",
    "        self.subjects = {}\n",
    "        print(\"Student Profile\\nName:\", name, \"\\nAge:\", age, \"\\nRoll Number:\", roll)\n",
    "        \n",
    "    def submark(self, eng, tam, mat, sci, soc):\n",
    "        self.subjects = {\"English\": eng, \"Tamil\": tam, \"Maths\": mat, \"Science\": sci, \"Social Science\": soc}\n",
    "        print(\"\\nStudent Marks\")\n",
    "        for subject, mark in self.subjects.items():\n",
    "            print(subject + \":\", mark)\n",
    "\n",
    "    def total_marks(self):\n",
    "        return sum(self.subjects.values())\n",
    "\n",
    "    def average_marks(self):\n",
    "        return self.total_marks() / len(self.subjects)\n",
    "\n",
    "# Get the number of students from the user\n",
    "num_students = int(input(\"Enter the number of students: \"))\n",
    "\n",
    "students = []\n",
    "\n",
    "# Create Student objects and input subject marks\n",
    "for i in range(num_students):\n",
    "    name = input(\"Enter name for student {}:\".format(i + 1))\n",
    "    roll = int(input(\"Enter roll number for student {}:\".format(i + 1)))\n",
    "    age = int(input(\"Enter age for student {}:\".format(i + 1)))\n",
    "\n",
    "    student = Student(name, roll, age)\n",
    "    eng = int(input(\"Enter English marks for student {}:\".format(i + 1)))\n",
    "    tam = int(input(\"Enter Tamil marks for student {}:\".format(i + 1)))\n",
    "    mat = int(input(\"Enter Maths marks for student {}:\".format(i + 1)))\n",
    "    sci = int(input(\"Enter Science marks for student {}:\".format(i + 1)))\n",
    "    soc = int(input(\"Enter Social Science marks for student {}:\".format(i + 1)))\n",
    "\n",
    "    student.submark(eng, tam, mat, sci, soc)\n",
    "    students.append(student)\n",
    "\n",
    "# Print details for each student\n",
    "for i, student in enumerate(students, start=1):\n",
    "    print(\"\\nDetails for student\", i)\n",
    "    print(\"Name:\", student.name)\n",
    "    print(\"Roll Number:\", student.roll)\n",
    "    print(\"Age:\", student.age)\n",
    "    student.submark(student.subjects[\"English\"], student.subjects[\"Tamil\"], student.subjects[\"Maths\"], student.subjects[\"Science\"], student.subjects[\"Social Science\"])\n",
    "    print(\"Total Marks:\", student.total_marks())\n",
    "    print(\"Average Marks:\", student.average_marks())\n"
   ]
  },
  {
   "cell_type": "code",
   "execution_count": 9,
   "id": "9d50acec",
   "metadata": {},
   "outputs": [
    {
     "ename": "FileNotFoundError",
     "evalue": "[Errno 2] No such file or directory: '/proc/uptime'",
     "output_type": "error",
     "traceback": [
      "\u001b[1;31m---------------------------------------------------------------------------\u001b[0m",
      "\u001b[1;31mFileNotFoundError\u001b[0m                         Traceback (most recent call last)",
      "Cell \u001b[1;32mIn[9], line 21\u001b[0m\n\u001b[0;32m     18\u001b[0m     current_time_str \u001b[38;5;241m=\u001b[39m \u001b[38;5;124mf\u001b[39m\u001b[38;5;124m\"\u001b[39m\u001b[38;5;132;01m{\u001b[39;00mhours_str\u001b[38;5;132;01m}\u001b[39;00m\u001b[38;5;124m:\u001b[39m\u001b[38;5;132;01m{\u001b[39;00mminutes_str\u001b[38;5;132;01m}\u001b[39;00m\u001b[38;5;124m:\u001b[39m\u001b[38;5;132;01m{\u001b[39;00mseconds_str\u001b[38;5;132;01m}\u001b[39;00m\u001b[38;5;124m\"\u001b[39m\n\u001b[0;32m     19\u001b[0m     \u001b[38;5;28;01mreturn\u001b[39;00m current_time_str\n\u001b[1;32m---> 21\u001b[0m current_time \u001b[38;5;241m=\u001b[39m \u001b[43mget_current_time\u001b[49m\u001b[43m(\u001b[49m\u001b[43m)\u001b[49m\n\u001b[0;32m     22\u001b[0m \u001b[38;5;28mprint\u001b[39m(\u001b[38;5;124m\"\u001b[39m\u001b[38;5;124mCurrent time:\u001b[39m\u001b[38;5;124m\"\u001b[39m, current_time)\n",
      "Cell \u001b[1;32mIn[9], line 4\u001b[0m, in \u001b[0;36mget_current_time\u001b[1;34m()\u001b[0m\n\u001b[0;32m      1\u001b[0m \u001b[38;5;28;01mdef\u001b[39;00m \u001b[38;5;21mget_current_time\u001b[39m():\n\u001b[0;32m      2\u001b[0m     ticks_per_second \u001b[38;5;241m=\u001b[39m \u001b[38;5;241m18.2\u001b[39m  \u001b[38;5;66;03m# Adjust this value based on your system's clock frequency\u001b[39;00m\n\u001b[1;32m----> 4\u001b[0m     ticks \u001b[38;5;241m=\u001b[39m \u001b[38;5;28mint\u001b[39m(\u001b[38;5;28;43mopen\u001b[39;49m\u001b[43m(\u001b[49m\u001b[38;5;124;43m'\u001b[39;49m\u001b[38;5;124;43m/proc/uptime\u001b[39;49m\u001b[38;5;124;43m'\u001b[39;49m\u001b[43m,\u001b[49m\u001b[43m \u001b[49m\u001b[38;5;124;43m'\u001b[39;49m\u001b[38;5;124;43mr\u001b[39;49m\u001b[38;5;124;43m'\u001b[39;49m\u001b[43m)\u001b[49m\u001b[38;5;241m.\u001b[39mread()\u001b[38;5;241m.\u001b[39msplit()[\u001b[38;5;241m0\u001b[39m])\n\u001b[0;32m      6\u001b[0m     \u001b[38;5;66;03m# Calculate hours, minutes, and seconds\u001b[39;00m\n\u001b[0;32m      7\u001b[0m     total_seconds \u001b[38;5;241m=\u001b[39m ticks \u001b[38;5;241m/\u001b[39m ticks_per_second\n",
      "File \u001b[1;32m~\\AppData\\Roaming\\Python\\Python310\\site-packages\\IPython\\core\\interactiveshell.py:282\u001b[0m, in \u001b[0;36m_modified_open\u001b[1;34m(file, *args, **kwargs)\u001b[0m\n\u001b[0;32m    275\u001b[0m \u001b[38;5;28;01mif\u001b[39;00m file \u001b[38;5;129;01min\u001b[39;00m {\u001b[38;5;241m0\u001b[39m, \u001b[38;5;241m1\u001b[39m, \u001b[38;5;241m2\u001b[39m}:\n\u001b[0;32m    276\u001b[0m     \u001b[38;5;28;01mraise\u001b[39;00m \u001b[38;5;167;01mValueError\u001b[39;00m(\n\u001b[0;32m    277\u001b[0m         \u001b[38;5;124mf\u001b[39m\u001b[38;5;124m\"\u001b[39m\u001b[38;5;124mIPython won\u001b[39m\u001b[38;5;124m'\u001b[39m\u001b[38;5;124mt let you open fd=\u001b[39m\u001b[38;5;132;01m{\u001b[39;00mfile\u001b[38;5;132;01m}\u001b[39;00m\u001b[38;5;124m by default \u001b[39m\u001b[38;5;124m\"\u001b[39m\n\u001b[0;32m    278\u001b[0m         \u001b[38;5;124m\"\u001b[39m\u001b[38;5;124mas it is likely to crash IPython. If you know what you are doing, \u001b[39m\u001b[38;5;124m\"\u001b[39m\n\u001b[0;32m    279\u001b[0m         \u001b[38;5;124m\"\u001b[39m\u001b[38;5;124myou can use builtins\u001b[39m\u001b[38;5;124m'\u001b[39m\u001b[38;5;124m open.\u001b[39m\u001b[38;5;124m\"\u001b[39m\n\u001b[0;32m    280\u001b[0m     )\n\u001b[1;32m--> 282\u001b[0m \u001b[38;5;28;01mreturn\u001b[39;00m io_open(file, \u001b[38;5;241m*\u001b[39margs, \u001b[38;5;241m*\u001b[39m\u001b[38;5;241m*\u001b[39mkwargs)\n",
      "\u001b[1;31mFileNotFoundError\u001b[0m: [Errno 2] No such file or directory: '/proc/uptime'"
     ]
    }
   ],
   "source": [
    "def get_current_time():\n",
    "    ticks_per_second = 18.2  # Adjust this value based on your system's clock frequency\n",
    "\n",
    "    ticks = int(open('/proc/uptime', 'r').read().split()[0])\n",
    "\n",
    "    # Calculate hours, minutes, and seconds\n",
    "    total_seconds = ticks / ticks_per_second\n",
    "    hours = total_seconds // 3600\n",
    "    remaining_seconds = total_seconds % 3600\n",
    "    minutes = remaining_seconds // 60\n",
    "    seconds = remaining_seconds % 60\n",
    "\n",
    "    # Format the time components as strings\n",
    "    hours_str = str(int(hours)).zfill(2)\n",
    "    minutes_str = str(int(minutes)).zfill(2)\n",
    "    seconds_str = str(int(seconds)).zfill(2)\n",
    "\n",
    "    current_time_str = f\"{hours_str}:{minutes_str}:{seconds_str}\"\n",
    "    return current_time_str\n",
    "\n",
    "current_time = get_current_time()\n",
    "print(\"Current time:\", current_time)\n"
   ]
  },
  {
   "cell_type": "code",
   "execution_count": null,
   "id": "67bf7e4b",
   "metadata": {},
   "outputs": [],
   "source": []
  }
 ],
 "metadata": {
  "kernelspec": {
   "display_name": "Python 3 (ipykernel)",
   "language": "python",
   "name": "python3"
  },
  "language_info": {
   "codemirror_mode": {
    "name": "ipython",
    "version": 3
   },
   "file_extension": ".py",
   "mimetype": "text/x-python",
   "name": "python",
   "nbconvert_exporter": "python",
   "pygments_lexer": "ipython3",
   "version": "3.10.9"
  }
 },
 "nbformat": 4,
 "nbformat_minor": 5
}
