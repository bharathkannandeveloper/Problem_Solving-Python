{
 "cells": [
  {
   "cell_type": "code",
   "execution_count": 1,
   "id": "7139e2e6",
   "metadata": {},
   "outputs": [
    {
     "name": "stdout",
     "output_type": "stream",
     "text": [
      "[[1 2 3]\n",
      " [4 5 6]]\n"
     ]
    }
   ],
   "source": [
    "#Creating a simple 2D Array Using Numpy\n",
    "\n",
    "import numpy as np\n",
    "\n",
    "a=np.array([[1,2,3],[4,5,6]])\n",
    "print(a)"
   ]
  },
  {
   "cell_type": "code",
   "execution_count": 5,
   "id": "7d901171",
   "metadata": {},
   "outputs": [
    {
     "name": "stdout",
     "output_type": "stream",
     "text": [
      "[[21 22 23]\n",
      " [24 25 26]]\n"
     ]
    }
   ],
   "source": [
    "# Adding The Number to Each elements in the Array . It wont Works in Python List\n",
    "\n",
    "a=np.array([[1,2,3],[4,5,6]])\n",
    "b=a+20\n",
    "print(b)"
   ]
  },
  {
   "cell_type": "code",
   "execution_count": 4,
   "id": "27d34548",
   "metadata": {},
   "outputs": [
    {
     "name": "stdout",
     "output_type": "stream",
     "text": [
      "[[-19 -18 -17]\n",
      " [-16 -15 -14]]\n"
     ]
    }
   ],
   "source": [
    "# Subtarcting The Number to Each elements in the Array . It wont Works in Python List\n",
    "\n",
    "a=np.array([[1,2,3],[4,5,6]])\n",
    "b=a-20\n",
    "print(b)"
   ]
  },
  {
   "cell_type": "code",
   "execution_count": 6,
   "id": "5f9a4a77",
   "metadata": {},
   "outputs": [
    {
     "name": "stdout",
     "output_type": "stream",
     "text": [
      "[[ 20  40  60]\n",
      " [ 80 100 120]]\n"
     ]
    }
   ],
   "source": [
    "# Multiplying The Number to Each Elements in the Array . It wont Works in Python List\n",
    "\n",
    "a=np.array([[1,2,3],[4,5,6]])\n",
    "b=a*20\n",
    "print(b)"
   ]
  },
  {
   "cell_type": "code",
   "execution_count": 8,
   "id": "efdec112",
   "metadata": {},
   "outputs": [
    {
     "name": "stdout",
     "output_type": "stream",
     "text": [
      "[[0.05 0.1  0.15]\n",
      " [0.2  0.25 0.3 ]]\n",
      "[[0 0 0]\n",
      " [0 0 0]]\n"
     ]
    }
   ],
   "source": [
    "# Dividing The Number to Each Elements in the Array . It wont Works in Python List\n",
    "\n",
    "a=np.array([[1,2,3],[4,5,6]])\n",
    "b=a/20\n",
    "print(b)\n",
    "b=a//20\n",
    "print(b)"
   ]
  },
  {
   "cell_type": "code",
   "execution_count": 10,
   "id": "ccc1c697",
   "metadata": {},
   "outputs": [
    {
     "name": "stdout",
     "output_type": "stream",
     "text": [
      "[[1 0 1]\n",
      " [0 1 0]]\n"
     ]
    }
   ],
   "source": [
    "# Finding The Reminder by Using  Modulo to get from Each Elements\n",
    "\n",
    "a=np.array([[1,2,3],[4,5,6]])\n",
    "b=a%2\n",
    "print(b)\n"
   ]
  },
  {
   "cell_type": "code",
   "execution_count": 11,
   "id": "c6de4054",
   "metadata": {},
   "outputs": [
    {
     "name": "stdout",
     "output_type": "stream",
     "text": [
      "[[ 1  4  9]\n",
      " [16 25 36]]\n"
     ]
    }
   ],
   "source": [
    "# Finding The Power of Each Elements inside the Array\n",
    "\n",
    "a=np.array([[1,2,3],[4,5,6]])\n",
    "b=a**2\n",
    "print(b)"
   ]
  },
  {
   "cell_type": "code",
   "execution_count": 15,
   "id": "235efb20",
   "metadata": {},
   "outputs": [
    {
     "name": "stdout",
     "output_type": "stream",
     "text": [
      "[5 7 9]\n",
      "21\n"
     ]
    }
   ],
   "source": [
    "# Adding The Matrix Elements and Printing Sum\n",
    "\n",
    "a=np.array([[1,2,3],[4,5,6]])\n",
    "b=sum(a)\n",
    "print(b)\n",
    "b=np.sum(a)\n",
    "print(b)"
   ]
  },
  {
   "cell_type": "code",
   "execution_count": 14,
   "id": "1e480382",
   "metadata": {},
   "outputs": [
    {
     "name": "stdout",
     "output_type": "stream",
     "text": [
      "6\n"
     ]
    }
   ],
   "source": [
    "# Find Maximum in the Array\n",
    "\n",
    "a=np.array([[1,2,3],[4,5,6]])\n",
    "b=np.max(a)\n",
    "print(b)"
   ]
  },
  {
   "cell_type": "code",
   "execution_count": 16,
   "id": "55b72b1d",
   "metadata": {},
   "outputs": [
    {
     "name": "stdout",
     "output_type": "stream",
     "text": [
      "1\n"
     ]
    }
   ],
   "source": [
    "# Find The Minumim in the Array\n",
    "\n",
    "a=np.array([[1,2,3],[4,5,6]])\n",
    "b=np.min(a)\n",
    "print(b)"
   ]
  },
  {
   "cell_type": "code",
   "execution_count": 18,
   "id": "639c8690",
   "metadata": {},
   "outputs": [
    {
     "name": "stdout",
     "output_type": "stream",
     "text": [
      "[[ 2  4  6]\n",
      " [ 8 10 12]]\n",
      "[[1, 2, 3], [4, 5, 6], [1, 2, 3], [4, 5, 6]]\n"
     ]
    }
   ],
   "source": [
    "# Adding 2 matrices Elements\n",
    "\n",
    "a=np.array([[1,2,3],[4,5,6]])\n",
    "b=np.array([[1,2,3],[4,5,6]])\n",
    "c=a+b\n",
    "print(c)\n",
    "\n",
    "# If Doing the Same in Python List . It will Concatenate\n",
    "a=[[1,2,3],[4,5,6]]\n",
    "b=[[1,2,3],[4,5,6]]\n",
    "c=a+b\n",
    "print(c)"
   ]
  },
  {
   "cell_type": "code",
   "execution_count": 20,
   "id": "82f806aa",
   "metadata": {},
   "outputs": [
    {
     "name": "stdout",
     "output_type": "stream",
     "text": [
      "[[0 0 0]\n",
      " [0 0 0]]\n"
     ]
    }
   ],
   "source": [
    "# Subtracting 2 Matrices Elements\n",
    "\n",
    "a=np.array([[1,2,3],[4,5,6]])\n",
    "b=np.array([[1,2,3],[4,5,6]])\n",
    "c=a-b\n",
    "print(c)\n",
    "\n",
    "# If Doing the Same in Python List . It will Shows Error"
   ]
  },
  {
   "cell_type": "code",
   "execution_count": 23,
   "id": "5e0731bb",
   "metadata": {},
   "outputs": [
    {
     "name": "stdout",
     "output_type": "stream",
     "text": [
      "[[ 1  4  9]\n",
      " [16 25 36]]\n"
     ]
    }
   ],
   "source": [
    "# Multiply 2 Matrices Elements\n",
    "\n",
    "a=np.array([[1,2,3],[4,5,6]])\n",
    "b=np.array([[1,2,3],[4,5,6]])\n",
    "c=a*b\n",
    "print(c)\n",
    "\n",
    "# If Doing the Same in Python List . It will Shows Error"
   ]
  },
  {
   "cell_type": "code",
   "execution_count": 25,
   "id": "cb317d78",
   "metadata": {},
   "outputs": [
    {
     "name": "stdout",
     "output_type": "stream",
     "text": [
      "[[1. 1. 1.]\n",
      " [1. 1. 1.]]\n",
      "[[1 1 1]\n",
      " [1 1 1]]\n"
     ]
    }
   ],
   "source": [
    "# Divide 2 matrices Elements\n",
    "\n",
    "a=np.array([[1,2,3],[4,5,6]])\n",
    "b=np.array([[1,2,3],[4,5,6]])\n",
    "c=a/b\n",
    "print(c)\n",
    "c=a//b\n",
    "print(c)\n",
    "\n",
    "# If Doing the Same in Python List . It will Shows Error"
   ]
  },
  {
   "cell_type": "code",
   "execution_count": 26,
   "id": "c9f18ec4",
   "metadata": {},
   "outputs": [
    {
     "name": "stdout",
     "output_type": "stream",
     "text": [
      "[[0 0 0]\n",
      " [0 0 0]]\n"
     ]
    }
   ],
   "source": [
    "# Find Modulo with 2 Matrices\n",
    "\n",
    "a=np.array([[1,2,3],[4,5,6]])\n",
    "b=np.array([[1,2,3],[4,5,6]])\n",
    "c=a%b\n",
    "print(c)\n"
   ]
  },
  {
   "cell_type": "code",
   "execution_count": 27,
   "id": "8e0633e5",
   "metadata": {},
   "outputs": [
    {
     "name": "stdout",
     "output_type": "stream",
     "text": [
      "[[    1     4    27]\n",
      " [  256  3125 46656]]\n"
     ]
    }
   ],
   "source": [
    "# Find A^b with each Elements\n",
    "\n",
    "a=np.array([[1,2,3],[4,5,6]])\n",
    "b=np.array([[1,2,3],[4,5,6]])\n",
    "c=a**b\n",
    "print(c)\n"
   ]
  },
  {
   "cell_type": "code",
   "execution_count": 28,
   "id": "fe90f7ef",
   "metadata": {},
   "outputs": [
    {
     "name": "stdout",
     "output_type": "stream",
     "text": [
      "[0. 0. 0. 0. 0. 0. 0. 0. 0. 0.]\n"
     ]
    }
   ],
   "source": [
    "# Generate a N number of Zeros in the Array\n",
    "\n",
    "a=np.zeros(10)\n",
    "print(a)"
   ]
  },
  {
   "cell_type": "code",
   "execution_count": 29,
   "id": "699394c9",
   "metadata": {},
   "outputs": [
    {
     "name": "stdout",
     "output_type": "stream",
     "text": [
      "[1. 1. 1. 1. 1. 1. 1. 1. 1. 1.]\n"
     ]
    }
   ],
   "source": [
    "# Generate a N number of Ones in the Array\n",
    "\n",
    "a=np.ones(10)\n",
    "print(a)"
   ]
  },
  {
   "cell_type": "code",
   "execution_count": 31,
   "id": "66f0a1cb",
   "metadata": {},
   "outputs": [
    {
     "name": "stdout",
     "output_type": "stream",
     "text": [
      "(2, 3)\n"
     ]
    }
   ],
   "source": [
    "# Print the Order of Matrix (rows,columns)\n",
    "\n",
    "a=np.array([[1,2,3],[4,5,6]])\n",
    "print(np.shape(a))"
   ]
  },
  {
   "cell_type": "code",
   "execution_count": 49,
   "id": "5e7c9529",
   "metadata": {
    "scrolled": true
   },
   "outputs": [
    {
     "name": "stdout",
     "output_type": "stream",
     "text": [
      "[[22 28]\n",
      " [49 64]]\n",
      "[[22 28]\n",
      " [49 64]]\n",
      "[[22 28]\n",
      " [49 64]]\n"
     ]
    }
   ],
   "source": [
    "# Perform Matrix Multiplication\n",
    "\n",
    "import numpy as np\n",
    "\n",
    "a = np.array([[1, 2, 3], [4, 5, 6]])\n",
    "b = np.array([[1, 2], [3, 4], [5, 6]])\n",
    "c = np.matmul(a, b)\n",
    "print(c)\n",
    "c = np.dot(a, b)\n",
    "print(c)\n",
    "c = a@b\n",
    "print(c)\n",
    "\n",
    "\n"
   ]
  },
  {
   "cell_type": "code",
   "execution_count": 2,
   "id": "119ccf4e",
   "metadata": {},
   "outputs": [
    {
     "name": "stdout",
     "output_type": "stream",
     "text": [
      "2 2\n",
      "Enter the Row 1 Element : 1 2 3 4 5\n",
      "Enter the Row 2 Element : 2 3 4 5 6\n",
      "[[1 2 3 4 5]\n",
      " [2 3 4 5 6]]\n"
     ]
    }
   ],
   "source": [
    "# Getting Array from The User Input\n",
    "\n",
    "import numpy as np\n",
    "\n",
    "rows,columns = map(int,input().split())\n",
    "arr=np.array([input(f\"Enter the Row {i+1} Elements : \").split() for i in range(rows)],dtype=int)\n",
    "print(arr)\n"
   ]
  },
  {
   "cell_type": "code",
   "execution_count": 15,
   "id": "18cedb7e",
   "metadata": {},
   "outputs": [
    {
     "name": "stdout",
     "output_type": "stream",
     "text": [
      " printing Array\n",
      "\n",
      "[[1 2 3 4 5]\n",
      " [6 7 8 9 0]\n",
      " [1 2 3 4 5]\n",
      " [6 7 8 9 0]]\n",
      "\n",
      " Printing Size of Array : 20\n",
      "\n",
      " Printing Shape of Array : (4, 5)\n",
      "\n",
      " Printng Dimensions of Array : 2\n",
      "\n",
      " Printng Data Type of Elements in Array : int32\n"
     ]
    }
   ],
   "source": [
    "# Printing Array Informations\n",
    "\n",
    "a=np.array([[1,2,3,4,5],[6,7,8,9,0],[1,2,3,4,5],[6,7,8,9,0]])\n",
    "print(\" printing Array\\n\")\n",
    "print(a)\n",
    "print(\"\\n Printing Size of Array : \",end=\"\")\n",
    "print(np.size(a))\n",
    "print(\"\\n Printing Shape of Array : \",end=\"\")\n",
    "print(np.shape(a))\n",
    "print(\"\\n Printng Dimensions of Array : \",end=\"\")\n",
    "print(np.ndim(a))\n",
    "print(\"\\n Printng Data Type of Elements in Array : \",end=\"\")\n",
    "print(a.dtype)"
   ]
  },
  {
   "cell_type": "code",
   "execution_count": 18,
   "id": "2e828e64",
   "metadata": {},
   "outputs": [
    {
     "name": "stdout",
     "output_type": "stream",
     "text": [
      "[6 6 6 6 6]\n"
     ]
    }
   ],
   "source": [
    "# Creating an array with full of some numbers\n",
    "\n",
    "a=np.full(5,6)\n",
    "print(a)"
   ]
  },
  {
   "cell_type": "code",
   "execution_count": 21,
   "id": "e5cff0dd",
   "metadata": {},
   "outputs": [
    {
     "name": "stdout",
     "output_type": "stream",
     "text": [
      "[[8 8 8 8]\n",
      " [8 8 8 8]\n",
      " [8 8 8 8]\n",
      " [8 8 8 8]]\n"
     ]
    }
   ],
   "source": [
    "# Creating a matrix by mentioning the shape and fill a element\n",
    "\n",
    "a=np.full((4,4),8 , dtype=int)\n",
    "print(a)"
   ]
  },
  {
   "cell_type": "code",
   "execution_count": 2,
   "id": "b718dfb0",
   "metadata": {},
   "outputs": [
    {
     "name": "stdout",
     "output_type": "stream",
     "text": [
      "[[6.+0.j 6.+0.j 6.+0.j]\n",
      " [6.+0.j 6.+0.j 6.+0.j]\n",
      " [6.+0.j 6.+0.j 6.+0.j]]\n"
     ]
    }
   ],
   "source": [
    "# Creating a Complex Array with real and imaginary Part\n",
    "\n",
    "import numpy as np\n",
    "a = np.full((3, 3), 6, dtype = 'complex')\n",
    "print(a)"
   ]
  },
  {
   "cell_type": "code",
   "execution_count": 9,
   "id": "2c8bceba",
   "metadata": {},
   "outputs": [
    {
     "name": "stdout",
     "output_type": "stream",
     "text": [
      "Original Matrix \n",
      "[[1 2 3]\n",
      " [4 5 6]]\n",
      "\n",
      " Transposed Matrix\n",
      "[[1 4]\n",
      " [2 5]\n",
      " [3 6]]\n",
      "\n",
      " Another Way Transposed Matrix\n",
      "[[1 4]\n",
      " [2 5]\n",
      " [3 6]]\n"
     ]
    }
   ],
   "source": [
    "# Transpose of Matrix\n",
    "\n",
    "a=np.array([[1,2,3],\n",
    "            [4,5,6]])\n",
    "\n",
    "print(\"Original Matrix \")\n",
    "print(a)\n",
    "print(\"\\n Transposed Matrix\")\n",
    "print(a.T)\n",
    "print(\"\\n Another Way Transposed Matrix\")\n",
    "print(np.transpose(a))"
   ]
  },
  {
   "cell_type": "code",
   "execution_count": 20,
   "id": "2d19cec6",
   "metadata": {},
   "outputs": [
    {
     "name": "stdout",
     "output_type": "stream",
     "text": [
      "printing Array\n",
      "[[1 2 3]\n",
      " [4 5 6]]\n",
      "\n",
      " Square Root of Array\n",
      "[[1.         1.41421356 1.73205081]\n",
      " [2.         2.23606798 2.44948974]]\n",
      "\n",
      " print Sin Values \n",
      "[[3.14159265 1.57079633 1.04719755]\n",
      " [0.78539816 0.62831853 0.52359878]]\n",
      "\n",
      " Exponential of Array\n",
      "[[  2.71828183   7.3890561   20.08553692]\n",
      " [ 54.59815003 148.4131591  403.42879349]]\n",
      "\n",
      " Logarthimic Functios in Array\n",
      "[[0.         0.30103    0.47712125]\n",
      " [0.60205999 0.69897    0.77815125]]\n",
      "\n",
      " Trignometrical Operations \n",
      "[[ 0.84147098  0.90929743  0.14112001]\n",
      " [-0.7568025  -0.95892427 -0.2794155 ]]\n"
     ]
    }
   ],
   "source": [
    "# Universal Operations of Numpy\n",
    "\n",
    "a=np.array([[1,2,3],\n",
    "            [4,5,6]])\n",
    "print(\"printing Array\")\n",
    "print(a)\n",
    "print(\"\\n Square Root of Array\")\n",
    "print(np.sqrt(a))\n",
    "print(\"\\n print Sin Values \")\n",
    "print(np.pi/a)\n",
    "print(\"\\n Exponential of Array\")\n",
    "print(np.exp(a))\n",
    "print(\"\\n Logarthimic Functios in Array\")\n",
    "print(np.log10(a))\n",
    "print(\"\\n Trignometrical Operations \")\n",
    "print(np.sin(a))"
   ]
  },
  {
   "cell_type": "code",
   "execution_count": 33,
   "id": "a40834bb",
   "metadata": {},
   "outputs": [
    {
     "name": "stdout",
     "output_type": "stream",
     "text": [
      "[20 22 24 26 28 30 32 34 36 38 40 42 44 46 48 50 52 54 56 58 60 62 64 66\n",
      " 68 70 72 74 76 78 80 82 84 86 88 90 92 94 96 98]\n"
     ]
    }
   ],
   "source": [
    "# Arange Function In Numpy\n",
    "\n",
    "a=np.arange(20,100,2)\n",
    "print(a)"
   ]
  },
  {
   "cell_type": "code",
   "execution_count": 51,
   "id": "7cc87394",
   "metadata": {},
   "outputs": [
    {
     "name": "stdout",
     "output_type": "stream",
     "text": [
      "[[0 1 2 3]\n",
      " [4 5 6 7]]\n",
      "[[ 2  4  6  8 10]\n",
      " [12 14 16 18 20]]\n",
      "[[[1 2]\n",
      "  [3 4]]\n",
      "\n",
      " [[5 6]\n",
      "  [7 8]]]\n"
     ]
    }
   ],
   "source": [
    "# Reshaping the Array\n",
    "\n",
    "a=np.array([1,2,3,4,5,6,7,8,9,10,11,12,13,14,15,16,17,18,19,20])\n",
    "b=np.arange(8).reshape(2,4)\n",
    "print(b)\n",
    "\n",
    "a=np.array([2,4,6,8,10,12,14,16,18,20])\n",
    "b=a.reshape(2,5)\n",
    "print(b)\n",
    "\n",
    "#Reshaping into 3d array\n",
    "a=np.array([1,2,3,4,5,6,7,8])\n",
    "b=a.reshape(2,2,2)\n",
    "print(b)\n",
    "\n"
   ]
  },
  {
   "cell_type": "code",
   "execution_count": 57,
   "id": "7cf0222b",
   "metadata": {},
   "outputs": [
    {
     "name": "stdout",
     "output_type": "stream",
     "text": [
      "(array([1.        , 1.05263158, 1.10526316, 1.15789474, 1.21052632,\n",
      "       1.26315789, 1.31578947, 1.36842105, 1.42105263, 1.47368421,\n",
      "       1.52631579, 1.57894737, 1.63157895, 1.68421053, 1.73684211,\n",
      "       1.78947368, 1.84210526, 1.89473684, 1.94736842, 2.        ]), 0.05263157894736842)\n"
     ]
    }
   ],
   "source": [
    "# Linespace Method in Numpy to find the steps of numbers between 2 Numbers\n",
    "\n",
    "import numpy as np\n",
    "print(np.linspace(1.0,2.0,20,retstep=True))"
   ]
  },
  {
   "cell_type": "code",
   "execution_count": 61,
   "id": "5822a526",
   "metadata": {},
   "outputs": [
    {
     "name": "stdout",
     "output_type": "stream",
     "text": [
      "Original Array\n",
      "[[ 1  2  3  4  5]\n",
      " [ 6  7  8  9 10]\n",
      " [11 12 13 14 15]\n",
      " [16 17 18 19 20]]\n",
      "\n",
      "Flattened Array\n",
      "[ 1  2  3  4  5  6  7  8  9 10 11 12 13 14 15 16 17 18 19 20]\n",
      "\n",
      "Using Flattened Method\n",
      "[ 1  6 11 16  2  7 12 17  3  8 13 18  4  9 14 19  5 10 15 20]\n"
     ]
    }
   ],
   "source": [
    "# Flattening the Array\n",
    "\n",
    "a=np.array([[1,2,3,4,5],[6,7,8,9,10],[11,12,13,14,15],[16,17,18,19,20]])\n",
    "print(\"Original Array\")\n",
    "print(a)\n",
    "print(\"\\nFlattened Array\")\n",
    "print(a.flatten())\n",
    "print(\"\\nUsing Flattened Method\")\n",
    "print(a.flatten(\"f\"))\n"
   ]
  },
  {
   "cell_type": "code",
   "execution_count": 6,
   "id": "2a1f89cc",
   "metadata": {},
   "outputs": [
    {
     "name": "stdout",
     "output_type": "stream",
     "text": [
      "[('Rahul', 10, 22000., 'Sannathi School')\n",
      " ('Varma', 15, 20000., 'Stanford School')\n",
      " ('Ajith', 12, 25000., 'Kingston School')\n",
      " ('Lokesh', 13, 45000., 'Sairam Engineering College')]\n",
      "\n",
      " Priting the Names only\n",
      "['Rahul' 'Varma' 'Ajith' 'Lokesh']\n"
     ]
    }
   ],
   "source": [
    "# Using the Fuction np.core.records.fromrecords to define Datatype for Organizing and Accessing\n",
    "\n",
    "datatype=[('name','U20'),('Roll Number',int),('Fees',float),('school','U90')]\n",
    "students=[('Rahul',10,22000,'Sannathi School'),\n",
    "          ('Varma',15,20000,'Stanford School'),\n",
    "          ('Ajith',12,25000,'Kingston School'),\n",
    "          ('Lokesh',13,45000,'Sairam Engineering College')]\n",
    "students_record=np.core.records.fromrecords(students,dtype=datatype)\n",
    "print(students_record)\n",
    "print(\"\\n Priting the Names only\")\n",
    "print(students_record.name)\n"
   ]
  },
  {
   "cell_type": "code",
   "execution_count": 85,
   "id": "1bb50630",
   "metadata": {},
   "outputs": [
    {
     "name": "stdout",
     "output_type": "stream",
     "text": [
      "id of arr 2524868346384\n",
      "id of nc 2524868346384\n",
      "original array-  [12  4  6  8 10]\n",
      "assigned array-  [12  4  6  8 10]\n"
     ]
    }
   ],
   "source": [
    "# Shallow Copy in Numpy\n",
    "\n",
    "import numpy as np \n",
    "  \n",
    "# creating array \n",
    "arr = np.array([2, 4, 6, 8, 10]) \n",
    "  \n",
    "# assigning arr to nc \n",
    "nc = arr \n",
    "  \n",
    "# both arr and nc have same id \n",
    "print(\"id of arr\", id(arr)) \n",
    "print(\"id of nc\", id(nc)) \n",
    "  \n",
    "# updating nc \n",
    "nc[0]= 12\n",
    "  \n",
    "# printing the values \n",
    "print(\"original array- \", arr) \n",
    "print(\"assigned array- \", nc) "
   ]
  },
  {
   "cell_type": "code",
   "execution_count": 93,
   "id": "0a569266",
   "metadata": {},
   "outputs": [
    {
     "name": "stdout",
     "output_type": "stream",
     "text": [
      "Printing Value b\n",
      "[1 2 3 4 5 6 7 8]\n",
      "id of arr = 2524933669104\n",
      "id of b = 2524934898096\n",
      "[20  2  3  4  5  6  7  8]\n",
      "[1 2 3 4 5 6 7 8]\n"
     ]
    }
   ],
   "source": [
    "# Deep Copy in Numpy\n",
    "\n",
    "arr = np.array([1,2,3,4,5,6,7,8])\n",
    "b=arr.copy()\n",
    "print(\"Printing Value b\")\n",
    "print(b)\n",
    "print(f\"id of arr = {id(arr)}\")\n",
    "print(f\"id of b = {id(b)}\")\n",
    "b[0]=20\n",
    "print(b)\n",
    "print(arr)"
   ]
  },
  {
   "cell_type": "code",
   "execution_count": 111,
   "id": "d5a32b12",
   "metadata": {},
   "outputs": [
    {
     "name": "stdout",
     "output_type": "stream",
     "text": [
      "2524846854032\n",
      "2524846853360\n",
      "True\n",
      "[3 4 5]\n"
     ]
    }
   ],
   "source": [
    "# Base Function in numpy to print its base\n",
    "\n",
    "arr=np.array([1,2,3,4,5])\n",
    "b=arr[2:]\n",
    "print(id(arr))\n",
    "print(id(b))\n",
    "print(b.base is arr)\n",
    "print(b.view())"
   ]
  },
  {
   "cell_type": "code",
   "execution_count": 121,
   "id": "e01b84b3",
   "metadata": {},
   "outputs": [
    {
     "name": "stdout",
     "output_type": "stream",
     "text": [
      "[ 1  2  3  4  5 10]\n",
      "[ 7  9 11 13 15]\n"
     ]
    }
   ],
   "source": [
    "# Appending The Elements At the Last\n",
    "\n",
    "import numpy as np\n",
    "arr=np.array([1,2,3,4,5])\n",
    "a=np.append(arr,[10])\n",
    "print(a)\n",
    "\n",
    "# Appending 2 arrays\n",
    "\n",
    "arr1=np.array([1,2,3,4,5])\n",
    "arr2=np.array([6,7,8,9,10])\n",
    "arr3=arr1+arr2\n",
    "print(arr3)"
   ]
  },
  {
   "cell_type": "code",
   "execution_count": 3,
   "id": "9f058b58",
   "metadata": {},
   "outputs": [
    {
     "name": "stdout",
     "output_type": "stream",
     "text": [
      "Sum along Axis 0 (columns): [5 7 9]\n",
      "Sum along Axis 1 (rows): [ 6 15]\n"
     ]
    }
   ],
   "source": [
    "# Axis Parameter in Numpy\n",
    "\n",
    "import numpy as np\n",
    "\n",
    "# Creating a 2D array\n",
    "arr_2d = np.array([[1, 2, 3],\n",
    "                   [4, 5, 6]])\n",
    "\n",
    "# Sum along Axis 0 (sum along columns)\n",
    "sum_along_axis_0 = np.sum(arr_2d, axis=0)\n",
    "print(\"Sum along Axis 0 (columns):\", sum_along_axis_0)\n",
    "\n",
    "# Sum along Axis 1 (sum along rows)\n",
    "sum_along_axis_1 = np.sum(arr_2d, axis=1)\n",
    "print(\"Sum along Axis 1 (rows):\", sum_along_axis_1)\n"
   ]
  },
  {
   "cell_type": "code",
   "execution_count": 5,
   "id": "1640d285",
   "metadata": {},
   "outputs": [
    {
     "name": "stdout",
     "output_type": "stream",
     "text": [
      "Concatenated along Axis 0:\n",
      " [[1 2]\n",
      " [3 4]\n",
      " [5 6]\n",
      " [7 8]]\n",
      "Concatenated along Axis 1:\n",
      " [[1 2 5 6]\n",
      " [3 4 7 8]]\n"
     ]
    }
   ],
   "source": [
    "# Using Axis to Concatenate in rows and columns\n",
    "\n",
    "import numpy as np\n",
    "\n",
    "# Creating two 2D arrays\n",
    "arr1 = np.array([[1, 2],\n",
    "                 [3, 4]])\n",
    "\n",
    "arr2 = np.array([[5, 6],\n",
    "                 [7, 8]])\n",
    "\n",
    "# Concatenating along Axis 0 (stacking vertically)\n",
    "concatenated_axis_0 = np.concatenate((arr1, arr2), axis=0)\n",
    "print(\"Concatenated along Axis 0:\\n\", concatenated_axis_0)\n",
    "\n",
    "# Concatenating along Axis 1 (stacking horizontally)\n",
    "concatenated_axis_1 = np.concatenate((arr1, arr2), axis=1)\n",
    "print(\"Concatenated along Axis 1:\\n\", concatenated_axis_1)\n"
   ]
  },
  {
   "cell_type": "code",
   "execution_count": 3,
   "id": "d59601e7",
   "metadata": {},
   "outputs": [
    {
     "name": "stdout",
     "output_type": "stream",
     "text": [
      "Array Before Swapping\n",
      "[[1 2 1]\n",
      " [3 4 1]\n",
      " [5 6 1]\n",
      " [7 8 1]]\n",
      "\n",
      "Array After Swapping\n",
      "[[1 1 2]\n",
      " [3 1 4]\n",
      " [5 1 6]\n",
      " [7 1 8]]\n"
     ]
    }
   ],
   "source": [
    "# Swapping The Columns  1 and 2 in each Row\n",
    "\n",
    "import numpy as np\n",
    "\n",
    "arr1 = np.array([[1, 2, 1],\n",
    "                 [3, 4, 1],\n",
    "                 [5, 6, 1],\n",
    "                 [7, 8, 1]])\n",
    "print(\"Array Before Swapping\")\n",
    "print(arr1)\n",
    "arr1[:,[1,2]] = arr1[:,[2,1]]\n",
    "print(\"\\nArray After Swapping\")\n",
    "print(arr1)\n",
    "\n"
   ]
  },
  {
   "cell_type": "code",
   "execution_count": 5,
   "id": "b3d9d0f4",
   "metadata": {},
   "outputs": [
    {
     "name": "stdout",
     "output_type": "stream",
     "text": [
      "Array Before Swapping\n",
      "[[1 2 1]\n",
      " [3 4 1]\n",
      " [5 6 1]\n",
      " [7 8 1]]\n",
      "\n",
      "Array After Swapping\n",
      "[[5 6 1]\n",
      " [3 4 1]\n",
      " [1 2 1]\n",
      " [7 8 1]]\n"
     ]
    }
   ],
   "source": [
    "# Swapping The Rows row 0 and 2\n",
    "\n",
    "import numpy as np\n",
    "\n",
    "arr1 = np.array([[1, 2, 1],\n",
    "                 [3, 4, 1],\n",
    "                 [5, 6, 1],\n",
    "                 [7, 8, 1]])\n",
    "print(\"Array Before Swapping\")\n",
    "print(arr1)\n",
    "arr1[[0,2],:] = arr1[[2,0],:]\n",
    "print(\"\\nArray After Swapping\")\n",
    "print(arr1)\n",
    "\n"
   ]
  },
  {
   "cell_type": "code",
   "execution_count": 22,
   "id": "f8b1b5df",
   "metadata": {},
   "outputs": [
    {
     "name": "stdout",
     "output_type": "stream",
     "text": [
      "Original 2D array:\n",
      "[[1 2 3]\n",
      " [4 5 6]\n",
      " [7 8 9]]\n",
      "\n",
      "Array with a new axis along the rows (3D):\n",
      "[[[1 2 3]\n",
      "  [4 5 6]\n",
      "  [7 8 9]]]\n",
      "\n",
      "Array with a new axis along the columns (3D):\n",
      "[[[1 2 3]]\n",
      "\n",
      " [[4 5 6]]\n",
      "\n",
      " [[7 8 9]]]\n",
      "\n",
      "Array with new axes along both rows and columns (3D):\n",
      "[[[1]\n",
      "  [2]\n",
      "  [3]]\n",
      "\n",
      " [[4]\n",
      "  [5]\n",
      "  [6]]\n",
      "\n",
      " [[7]\n",
      "  [8]\n",
      "  [9]]]\n"
     ]
    }
   ],
   "source": [
    "# Insert New axis Using np.newaxis to convert 1d-2d-3d-....nd\n",
    "\"\"\"\n",
    "1D array will become 2D array\n",
    "2D array will become 3D array\n",
    "3D array will become 4D array\n",
    "4D array will become 5D array\n",
    "\"\"\"\n",
    "\n",
    "import numpy as np\n",
    "\n",
    "# Creating a 2D array\n",
    "arr_2d = np.array([[1, 2, 3],\n",
    "                   [4, 5, 6],\n",
    "                   [7, 8, 9]])\n",
    "\n",
    "# Inserting a new axis along the rows\n",
    "arr_3d_row = arr_2d[np.newaxis, :, :]\n",
    "\n",
    "# Inserting a new axis along the columns\n",
    "arr_3d_col = arr_2d[:, np.newaxis, :]\n",
    "\n",
    "# Inserting new axes along both rows and columns\n",
    "arr_3d_both = arr_2d[:, :, np.newaxis]\n",
    "\n",
    "print(\"Original 2D array:\")\n",
    "print(arr_2d)\n",
    "\n",
    "print(\"\\nArray with a new axis along the rows (3D):\")\n",
    "print(arr_3d_row)\n",
    "\n",
    "print(\"\\nArray with a new axis along the columns (3D):\")\n",
    "print(arr_3d_col)\n",
    "\n",
    "print(\"\\nArray with new axes along both rows and columns (3D):\")\n",
    "print(arr_3d_both)\n"
   ]
  },
  {
   "cell_type": "code",
   "execution_count": 5,
   "id": "033a8c92",
   "metadata": {
    "scrolled": true
   },
   "outputs": [
    {
     "name": "stdout",
     "output_type": "stream",
     "text": [
      "(3, 1, 4)\n"
     ]
    }
   ],
   "source": [
    "# Insert New axis Using numpy.expand_dims()\n",
    "\n",
    "\n",
    "import numpy as np \n",
    "  \n",
    "  \n",
    "x = np.zeros((3, 4)) \n",
    "y = np.expand_dims(x, axis=1).shape \n",
    "print(y) "
   ]
  },
  {
   "cell_type": "code",
   "execution_count": 6,
   "id": "6ce3f3bb",
   "metadata": {},
   "outputs": [
    {
     "name": "stdout",
     "output_type": "stream",
     "text": [
      "Rank of A: 3\n",
      "\n",
      "Trace of A: 11\n",
      "\n",
      "Determinant of A: -306.0\n",
      "\n",
      "Inverse of A:\n",
      " [[ 0.17647059 -0.00326797 -0.02287582]\n",
      " [ 0.05882353 -0.13071895  0.08496732]\n",
      " [-0.11764706  0.1503268   0.05228758]]\n",
      "\n",
      "Matrix A raised to power 3:\n",
      " [[336 162 228]\n",
      " [406 162 469]\n",
      " [698 702 905]]\n"
     ]
    }
   ],
   "source": [
    "# Importing numpy as np\n",
    "import numpy as np\n",
    " \n",
    "A = np.array([[6, 1, 1],\n",
    "              [4, -2, 5],\n",
    "              [2, 8, 7]])\n",
    " \n",
    "# Rank of a matrix\n",
    "print(\"Rank of A:\", np.linalg.matrix_rank(A))\n",
    " \n",
    "# Trace of matrix A\n",
    "print(\"\\nTrace of A:\", np.trace(A))\n",
    " \n",
    "# Determinant of a matrix\n",
    "print(\"\\nDeterminant of A:\", np.linalg.det(A))\n",
    " \n",
    "# Inverse of matrix A\n",
    "print(\"\\nInverse of A:\\n\", np.linalg.inv(A))\n",
    " \n",
    "print(\"\\nMatrix A raised to power 3:\\n\",\n",
    "           np.linalg.matrix_power(A, 3))"
   ]
  },
  {
   "cell_type": "code",
   "execution_count": 7,
   "id": "1f85dad1",
   "metadata": {},
   "outputs": [
    {
     "name": "stdout",
     "output_type": "stream",
     "text": [
      "Array is : [[ 1.+0.j -0.-2.j]\n",
      " [ 0.+2.j  5.+0.j]]\n",
      "Eigen value is : [0.17157288 5.82842712]\n",
      "Eigen value is : [[-0.92387953+0.j         -0.38268343+0.j        ]\n",
      " [ 0.        +0.38268343j  0.        -0.92387953j]]\n"
     ]
    }
   ],
   "source": [
    "# Python program explaining\n",
    "# eigh() function\n",
    " \n",
    "from numpy import linalg as geek\n",
    " \n",
    "# Creating an array using array \n",
    "# function\n",
    "a = np.array([[1, -2j], [2j, 5]])\n",
    " \n",
    "print(\"Array is :\",a)\n",
    " \n",
    "# calculating an eigen value\n",
    "# using eigh() function\n",
    "c, d = geek.eigh(a)\n",
    " \n",
    "print(\"Eigen value is :\", c)\n",
    "print(\"Eigen value is :\", d)"
   ]
  },
  {
   "cell_type": "code",
   "execution_count": 12,
   "id": "4250e9df",
   "metadata": {},
   "outputs": [
    {
     "name": "stdout",
     "output_type": "stream",
     "text": [
      "Output random float value :  0.9209205573565269\n"
     ]
    }
   ],
   "source": [
    "# Python program explaining \n",
    "# numpy.random.ranf() function \n",
    "\n",
    "# importing numpy \n",
    "import numpy as geek \n",
    "\n",
    "\n",
    "# output random float value \n",
    "out_val = geek.random.ranf() \n",
    "print (\"Output random float value : \", out_val) \n"
   ]
  },
  {
   "cell_type": "code",
   "execution_count": 13,
   "id": "70cb9a0d",
   "metadata": {},
   "outputs": [
    {
     "name": "stdout",
     "output_type": "stream",
     "text": [
      "Output 3D Array filled with random floats :  [[[0.73453648 0.80015089]\n",
      "  [0.99611113 0.08734216]\n",
      "  [0.9787324  0.91547675]]\n",
      "\n",
      " [[0.52745997 0.14555556]\n",
      "  [0.80269588 0.26386803]\n",
      "  [0.69731769 0.71614958]]]\n"
     ]
    }
   ],
   "source": [
    "# Python program explaining \n",
    "# numpy.random.random() function \n",
    "\n",
    "# importing numpy \n",
    "import numpy as geek \n",
    "\n",
    "# output array \n",
    "out_arr = geek.random.random((2, 3, 2)) \n",
    "print (\"Output 3D Array filled with random floats : \", out_arr) \n"
   ]
  },
  {
   "cell_type": "code",
   "execution_count": 17,
   "id": "3cb26fff",
   "metadata": {},
   "outputs": [
    {
     "name": "stdout",
     "output_type": "stream",
     "text": [
      "Shuffled array (in-place): [4 3 2 1 5]\n",
      "Original array: [1 2 3 4 5]\n",
      "Shuffled array (copy): [2 1 3 5 4]\n"
     ]
    }
   ],
   "source": [
    "import numpy as np\n",
    "\n",
    "# Example using numpy.random.shuffle\n",
    "arr_shuffle = np.array([1, 2, 3, 4, 5])\n",
    "np.random.shuffle(arr_shuffle)\n",
    "print(\"Shuffled array (in-place):\", arr_shuffle)\n",
    "\n",
    "# Example using numpy.random.permutation\n",
    "arr_perm = np.array([1, 2, 3, 4, 5])\n",
    "shuffled_arr = np.random.permutation(arr_perm)\n",
    "print(\"Original array:\", arr_perm)\n",
    "print(\"Shuffled array (copy):\", shuffled_arr)\n"
   ]
  },
  {
   "cell_type": "code",
   "execution_count": 32,
   "id": "ef68037d",
   "metadata": {},
   "outputs": [
    {
     "name": "stdout",
     "output_type": "stream",
     "text": [
      "[236  15 345 217  22  24 182  33 163 166 227  37 123   4  98 134  52  40\n",
      "  46  15  37   1  98  82  18  36  12  96 101 384  92  17  79 152 238 141\n",
      " 170  72   1 164  72 106  62 258  38  58   9 129  30  78 134 120 105  33\n",
      "  56 177   4  10 151  17 152  18  17 469  48 202  76 107  24 118  47  16\n",
      "  69 277  29   6   6  83 162   8 220   4  84 287 154  17 323 160 268  74\n",
      "  10  75 117 226 108 130  37 240  29  44]\n"
     ]
    }
   ],
   "source": [
    "import numpy as np\n",
    "\n",
    "# Generate 1000 random values from a geometric distribution with probability 0.65\n",
    "random_values = np.random.geometric(0.01, size=100)\n",
    "print(random_values)"
   ]
  },
  {
   "cell_type": "code",
   "execution_count": 33,
   "id": "04195fcf",
   "metadata": {},
   "outputs": [
    {
     "name": "stdout",
     "output_type": "stream",
     "text": [
      "\n",
      " A sequential array with a negative step: \n",
      " [10  8  6  4  2]\n",
      "\n",
      " Elements at these indices are:\n",
      " [4 8 6]\n"
     ]
    }
   ],
   "source": [
    "# Python program to demonstrate \n",
    "# the use of index arrays.\n",
    "import numpy as np\n",
    "\n",
    "# Create a sequence of integers from 10 to 1 with a step of -2\n",
    "a = np.arange(10, 1, -2) \n",
    "print(\"\\n A sequential array with a negative step: \\n\",a)\n",
    "\n",
    "# Indexes are specified inside the np.array method.\n",
    "newarr = a[np.array([3, 1, 2 ])]\n",
    "print(\"\\n Elements at these indices are:\\n\",newarr)\n"
   ]
  },
  {
   "cell_type": "code",
   "execution_count": 39,
   "id": "6ebdf593",
   "metadata": {},
   "outputs": [
    {
     "name": "stdout",
     "output_type": "stream",
     "text": [
      "Original array : \n",
      " [[0 1]\n",
      " [2 3]\n",
      " [4 5]\n",
      " [6 7]\n",
      " [8 9]]\n",
      "\n",
      "Sliced array : \n",
      " [[2 3]]\n",
      "\n",
      "Sliced array : \n",
      " [[0]\n",
      " [2]\n",
      " [4]\n",
      " [6]\n",
      " [8]]\n"
     ]
    }
   ],
   "source": [
    "\n",
    "# Python Program illustrating \n",
    "# numpy.compress method \n",
    "  \n",
    "import numpy as geek \n",
    "  \n",
    "array = geek.arange(10).reshape(5, 2) \n",
    "print(\"Original array : \\n\", array) \n",
    "  \n",
    "a = geek.compress([0, 1], array, axis=0) \n",
    "print(\"\\nSliced array : \\n\", a) \n",
    "  \n",
    "a = geek.compress([1,0], array, axis=1) \n",
    "print(\"\\nSliced array : \\n\", a) "
   ]
  },
  {
   "cell_type": "code",
   "execution_count": 7,
   "id": "d2086a19",
   "metadata": {},
   "outputs": [
    {
     "name": "stdout",
     "output_type": "stream",
     "text": [
      "Along first axis : \n",
      " [[12 15]\n",
      " [ 1 10]]\n"
     ]
    }
   ],
   "source": [
    "\n",
    "# importing libraries\n",
    "import numpy as np\n",
    " \n",
    "# sort along the first axis\n",
    "a = np.array([[12, 15], [10, 1]])\n",
    "arr1 = np.sort(a, axis = -1)        \n",
    "print (\"Along first axis : \\n\", arr1) "
   ]
  }
 ],
 "metadata": {
  "kernelspec": {
   "display_name": "Python 3 (ipykernel)",
   "language": "python",
   "name": "python3"
  },
  "language_info": {
   "codemirror_mode": {
    "name": "ipython",
    "version": 3
   },
   "file_extension": ".py",
   "mimetype": "text/x-python",
   "name": "python",
   "nbconvert_exporter": "python",
   "pygments_lexer": "ipython3",
   "version": "3.10.9"
  },
  "vp": {
   "vp_config_version": "1.0.0",
   "vp_menu_width": 276.54547119140625,
   "vp_note_display": true,
   "vp_note_width": 263,
   "vp_position": {
    "width": 544.5454711914062
   },
   "vp_section_display": false,
   "vp_signature": "VisualPython"
  }
 },
 "nbformat": 4,
 "nbformat_minor": 5
}
